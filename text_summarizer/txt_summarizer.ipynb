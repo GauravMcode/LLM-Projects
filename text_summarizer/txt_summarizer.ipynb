{
 "cells": [
  {
   "cell_type": "code",
   "execution_count": 30,
   "id": "34b732b0-8517-4c77-9f01-127ce79fcf96",
   "metadata": {},
   "outputs": [],
   "source": [
    "# imports\n",
    "\n",
    "import os\n",
    "import requests\n",
    "from dotenv import load_dotenv\n",
    "from bs4 import BeautifulSoup\n",
    "from IPython.display import Markdown, display\n",
    "import google.generativeai as genai\n"
   ]
  },
  {
   "cell_type": "code",
   "execution_count": 31,
   "id": "97546bea-ec44-45de-8216-1f525980b9ed",
   "metadata": {
    "scrolled": true
   },
   "outputs": [],
   "source": [
    "# load env variables from env\n",
    "load_dotenv(override=True)\n",
    "api_key = os.getenv('GEMINI_API_KEY')\n",
    "\n",
    "# connect to gemini\n",
    "genai.configure(api_key = api_key)"
   ]
  },
  {
   "cell_type": "markdown",
   "id": "df68c916-453d-43fd-97c1-e59dee2d9879",
   "metadata": {},
   "source": [
    "## Why use headers?\n",
    "User-Agent header is used to identify the client (browser) making the request, which can help avoid blocking or restrictions from the website. It helps make the request look like it’s coming from a human using a browser, which can prevent the request from being blocked by the website, because Some websites block requests that don’t have a valid User-Agent, assuming they’re coming from bots or scrapers."
   ]
  },
  {
   "cell_type": "code",
   "execution_count": 32,
   "id": "7d7ba892-b90c-402f-9cc5-cdfb551b5afc",
   "metadata": {},
   "outputs": [],
   "source": [
    "# use beautiful soup for web-scraping text from a website\n",
    "\n",
    "# Some websites need you to use proper headers when fetching them:\n",
    "headers = {\n",
    " \"User-Agent\": \"Mozilla/5.0 (Windows NT 10.0; Win64; x64) AppleWebKit/537.36 (KHTML, like Gecko) Chrome/117.0.0.0 Safari/537.36\"\n",
    "}\n",
    "\n",
    "class Website:\n",
    "    url: str\n",
    "    title: str\n",
    "    text: str\n",
    "\n",
    "    def __init__(self, url):\n",
    "        self.url = url\n",
    "        self.scrape()\n",
    "\n",
    "    def scrape(self):\n",
    "        '''scrapes the content of the website at the provided url'''\n",
    "        response = requests.get(self.url, headers=headers)\n",
    "        if response.status_code != 200:\n",
    "            print(f\"Failed to retrieve the URL. Status code: {response.status_code}\")\n",
    "            return;\n",
    "        soup = BeautifulSoup(response.text, 'html.parser')\n",
    "        self.title = soup.title.string if soup.title else \"No title found\"\n",
    "\n",
    "        # remove irrelevant tags as we need only texts\n",
    "        for irrelevant in soup.body([\"script\", \"style\", \"img\", \"input\"]):\n",
    "            irrelevant.decompose()\n",
    "        self.text = soup.body.get_text(separator='\\n', strip=True)\n",
    "\n",
    " \n",
    "\n",
    "        "
   ]
  },
  {
   "cell_type": "code",
   "execution_count": null,
   "id": "8c8208f3-173a-4ba2-bd3d-013111e060e0",
   "metadata": {},
   "outputs": [],
   "source": [
    "page = Website(\"https://edwarddonner.com\")\n",
    "print(page.title)\n",
    "print(page.text)"
   ]
  },
  {
   "cell_type": "code",
   "execution_count": 54,
   "id": "d0122a40-1445-47eb-bc37-9c98ad6e510b",
   "metadata": {},
   "outputs": [],
   "source": [
    "system_prompt = 'You are an assistant that analyzes the contents of a website \\\n",
    "and provides a short summary, ignoring text that might be navigation related. \\\n",
    "Respond in markdown.'"
   ]
  },
  {
   "cell_type": "code",
   "execution_count": 55,
   "id": "dc96a05e-e957-4052-970d-7668f622a460",
   "metadata": {},
   "outputs": [],
   "source": [
    "# A function that writes a User Prompt that asks for summaries of websites:\n",
    "\n",
    "def user_prompt_for(website):\n",
    "    user_prompt = f\"You are looking at a website titled {website.title}\"\n",
    "    user_prompt += '\\nThe contents of this website is as follows; \\\n",
    "please provide a short summary of this website in markdown. \\\n",
    "If it includes news or announcements, then summarize these too.\\n\\n'\n",
    "    user_prompt += website.text\n",
    "    return user_prompt"
   ]
  },
  {
   "cell_type": "code",
   "execution_count": 36,
   "id": "93791238-ac76-4754-9784-3b1be2dbbc60",
   "metadata": {},
   "outputs": [],
   "source": [
    "def get_message(system_prompt, website):\n",
    "    message = f\"context: {system_prompt} \\n prompt: {user_prompt_for(website)}\"\n",
    "    return message\n",
    "\n",
    "\n"
   ]
  },
  {
   "cell_type": "code",
   "execution_count": 39,
   "id": "cbc0f0c8-dbcb-4dff-8f53-3f8fa1370ad0",
   "metadata": {},
   "outputs": [],
   "source": [
    "def summarize(url):\n",
    "    website = Website(url)\n",
    "    model = genai.GenerativeModel(\"gemini-1.5-flash\")\n",
    "    response = model.generate_content(get_message(system_prompt, website))\n",
    "    display(Markdown(response.text))"
   ]
  },
  {
   "cell_type": "code",
   "execution_count": 46,
   "id": "63d6b1f2-8dcb-43c6-95dd-36a562d2c9db",
   "metadata": {},
   "outputs": [
    {
     "data": {
      "text/markdown": [
       "## Edward Donner Website Summary\n",
       "\n",
       "This website is a personal portfolio for Ed Donner, co-founder and CTO of Nebula.io, an AI company focused on talent discovery.  Ed describes his interests as coding, LLMs, DJing, and electronic music production. He's also the founder and former CEO of untapt, an AI startup acquired in 2021.  His website features \"Outsmart,\" an arena where LLMs compete in diplomacy and deviousness.\n",
       "\n",
       "**Recent Posts:**\n",
       "\n",
       "* **December 21, 2024:** Welcomes SuperDataScientists.\n",
       "* **November 13, 2024:**  Provides resources on mastering AI and LLM engineering.\n",
       "* **October 16, 2024:** Offers resources for transitioning from software engineer to AI data scientist.\n",
       "* **August 6, 2024:** Announces the Outsmart LLM arena.\n"
      ],
      "text/plain": [
       "<IPython.core.display.Markdown object>"
      ]
     },
     "metadata": {},
     "output_type": "display_data"
    }
   ],
   "source": [
    "summarize(\"https://edwarddonner.com\")"
   ]
  },
  {
   "cell_type": "markdown",
   "id": "c96ce6bc-97dc-4a98-84b3-1e93db99a790",
   "metadata": {},
   "source": [
    "## Running models locally (Ollama)\n",
    "\n",
    "### Recap on installation of Ollama\n",
    "\n",
    "Simply visit [ollama.com](https://ollama.com) and install!\n",
    "\n",
    "Once complete, the ollama server should already be running locally.  \n",
    "If you visit:  \n",
    "[http://localhost:11434/](http://localhost:11434/)\n",
    "\n",
    "You should see the message `Ollama is running`. \n"
   ]
  },
  {
   "cell_type": "code",
   "execution_count": 64,
   "id": "9a112021-78a1-4725-b9c7-d162b0bc8822",
   "metadata": {},
   "outputs": [],
   "source": [
    "import ollama\n",
    "def summarizeLocally(url):\n",
    "    website = Website(url)\n",
    "    MODEL = \"llama3.2\"\n",
    "    messages = [\n",
    "    {'role': \"system\", 'content': system_prompt},\n",
    "    {'role': 'user', \"content\": user_prompt_for(website)}]\n",
    "    response = ollama.chat(model= MODEL, messages=messages)\n",
    "    display(Markdown(response['message']['content']))"
   ]
  },
  {
   "cell_type": "code",
   "execution_count": 65,
   "id": "29d10e26-d92d-4c09-a071-79a388254d54",
   "metadata": {},
   "outputs": [
    {
     "data": {
      "text/markdown": [
       "# Website Summary\n",
       "### Home - Edward Donner\n",
       "This website is a personal blog of Edward Donner, the co-founder and CTO of Nebula.io. The site features:\n",
       "\n",
       "*   **About Me**: A brief introduction to Edward's interests, experience, and work in AI.\n",
       "*   **Personal Projects**: Links to his other ventures, including untapt (acquired in 2021) and Nebula.io.\n",
       "*   **News/Announcements**:\n",
       "    *   **December 21, 2024**: Welcome message for SuperDataScientists, indicating a community or newsletter signup process.\n",
       "    *   **November 13, 2024**: Mastering AI and LLM Engineering – Resources, suggesting a series of articles or resources on the topic.\n",
       "    *   **October 16, 2024**: From Software Engineer to AI Data Scientist – resources, another resource-focused announcement.\n",
       "    *   **August 6, 2024**: Outsmart LLM Arena – a battle of diplomacy and deviousness, describing a unique arena where LLMs compete in diplomatic challenges.\n",
       "\n",
       "The site also features links to Edward's professional profiles on LinkedIn, Twitter, Facebook, and a newsletter subscription process."
      ],
      "text/plain": [
       "<IPython.core.display.Markdown object>"
      ]
     },
     "metadata": {},
     "output_type": "display_data"
    }
   ],
   "source": [
    "summarizeLocally(\"https://edwarddonner.com\")"
   ]
  },
  {
   "cell_type": "code",
   "execution_count": null,
   "id": "c0f7f0f1-e977-434b-9c3e-2440e254f9eb",
   "metadata": {},
   "outputs": [],
   "source": []
  }
 ],
 "metadata": {
  "kernelspec": {
   "display_name": "Python 3 (ipykernel)",
   "language": "python",
   "name": "python3"
  },
  "language_info": {
   "codemirror_mode": {
    "name": "ipython",
    "version": 3
   },
   "file_extension": ".py",
   "mimetype": "text/x-python",
   "name": "python",
   "nbconvert_exporter": "python",
   "pygments_lexer": "ipython3",
   "version": "3.11.11"
  }
 },
 "nbformat": 4,
 "nbformat_minor": 5
}
