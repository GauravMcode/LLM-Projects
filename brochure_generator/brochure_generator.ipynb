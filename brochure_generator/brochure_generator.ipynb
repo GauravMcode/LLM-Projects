{
 "cells": [
  {
   "cell_type": "markdown",
   "id": "0fef5fa5",
   "metadata": {},
   "source": [
    "# Brochure Generator from Website"
   ]
  },
  {
   "cell_type": "code",
   "execution_count": null,
   "metadata": {},
   "outputs": [],
   "source": [
    "#all imports\n",
    "import os\n",
    "import requests\n",
    "import json\n",
    "from typing import List\n",
    "from dotenv import load_dotenv\n",
    "from bs4 import BeautifulSoup\n",
    "from IPython.display import Markdown, display, update_display\n",
    "import google.generativeai as genai"
   ]
  },
  {
   "cell_type": "markdown",
   "id": "b76197f0",
   "metadata": {},
   "source": [
    "## Step 1: Get data and links"
   ]
  },
  {
   "cell_type": "code",
   "execution_count": null,
   "id": "2b25b8cd",
   "metadata": {},
   "outputs": [],
   "source": [
    "load_dotenv(override=True)\n",
    "api_key = os.getenv('GEMINI_API_KEY')\n",
    "\n",
    "# connect to gemini\n",
    "genai.configure(api_key = api_key)"
   ]
  },
  {
   "cell_type": "code",
   "execution_count": null,
   "id": "d0e5aa3e",
   "metadata": {},
   "outputs": [],
   "source": [
    "\n",
    "# Some websites need you to use proper headers when fetching them:\n",
    "headers = {\n",
    "    \"User-Agent\": \"Mozilla/5.0 (Windows NT 10.0; Win64; x64) AppleWebKit/537.36 (KHTML, like Gecko) Chrome/117.0.0.0 Safari/537.36\"\n",
    "}\n",
    "\n",
    "class Website:\n",
    "    \"\"\"\n",
    "    A utility class to represent a Website that we have scraped, now with links.\n",
    "    \"\"\"\n",
    "    url: str\n",
    "    title: str\n",
    "    body: str\n",
    "    text: str\n",
    "    links: List[str]\n",
    "\n",
    "    def __init__(self, url: str):\n",
    "        self.url = url\n",
    "        self.title = \"\"\n",
    "        self.body = \"\"\n",
    "        self.text = \"\"\n",
    "        self.links = []\n",
    "        self.scrape()\n",
    "\n",
    "    def scrape(self):\n",
    "        \"\"\"Scrapes the content of the website at the provided URL.\"\"\"\n",
    "        try:\n",
    "            response = requests.get(self.url, headers=headers)\n",
    "            if response.status_code != 200:\n",
    "                print(f\"Failed to retrieve the URL. Status code: {response.status_code}\")\n",
    "                return\n",
    "            \n",
    "            soup = BeautifulSoup(response.content, 'html.parser')\n",
    "            self.body = response.content\n",
    "            self.title = soup.title.string if soup.title else \"No title found!\"\n",
    "\n",
    "            # Remove irrelevant tags as we only need text\n",
    "            for irrelevant in soup.body.find_all([\"script\", \"style\", \"img\", \"input\"]):\n",
    "                irrelevant.decompose()\n",
    "            \n",
    "            self.text = soup.body.get_text(separator='\\n', strip=True) if soup.body else \"\"\n",
    "\n",
    "            # Extract links\n",
    "            links = [link.get('href') for link in soup.find_all('a')]\n",
    "            self.links = [link for link in links if link]\n",
    "\n",
    "        except Exception as e:\n",
    "            print(f\"An error occurred while scraping: {e}\")\n",
    "    \n",
    "    def get_contents(self):\n",
    "        return f\"Webpage Title:\\n{self.title}\\nWebpage Content:\\n{self.text}\\n\\n\"\n"
   ]
  },
  {
   "cell_type": "code",
   "execution_count": null,
   "id": "77301335",
   "metadata": {},
   "outputs": [],
   "source": [
    "web = Website(\"https://edwarddonner.com\")\n",
    "web.links"
   ]
  },
  {
   "cell_type": "code",
   "execution_count": null,
   "id": "001f2e46",
   "metadata": {},
   "outputs": [],
   "source": [
    "link_system_prompt = \"You are provided with a list of links found on a webpage. \\\n",
    "You are able to decide which of the links would be most relevant to include in a brochure about the company, \\\n",
    "such as links to an About page, or a Company page, or Careers/Jobs pages.\\n\"\n",
    "link_system_prompt += \"You should respond in JSON as in this example:\"\n",
    "link_system_prompt += \"\"\"\n",
    "{\n",
    "    \"links\": [\n",
    "        {\"type\": \"about page\", \"url\": \"https://full.url/goes/here/about\"},\n",
    "        {\"type\": \"careers page\": \"url\": \"https://another.full.url/careers\"}\n",
    "    ]\n",
    "}\n",
    "\"\"\""
   ]
  },
  {
   "cell_type": "code",
   "execution_count": null,
   "id": "bacba4a8",
   "metadata": {},
   "outputs": [],
   "source": [
    "print(link_system_prompt)"
   ]
  },
  {
   "cell_type": "code",
   "execution_count": null,
   "id": "bfa9946a",
   "metadata": {},
   "outputs": [],
   "source": [
    "def get_links_user_prompt(website):\n",
    "    user_prompt = f\"Here is the list of links on the website of {website.url} - \"\n",
    "    user_prompt += \"please decide which of these are relevant web links for a brochure about the company, respond with the full https URL in JSON format. \\\n",
    "Do not include Terms of Service, Privacy, email links. Don't include json term in output\\n\"\n",
    "    user_prompt += \"Links (some might be relative links):\\n\"\n",
    "    user_prompt += \"\\n\".join(website.links)\n",
    "    return user_prompt"
   ]
  },
  {
   "cell_type": "code",
   "execution_count": null,
   "id": "f2314891",
   "metadata": {},
   "outputs": [],
   "source": [
    "def get_prompt(website):\n",
    "    return f\"context: {link_system_prompt}, prompt: {get_links_user_prompt(website)}\""
   ]
  },
  {
   "cell_type": "code",
   "execution_count": null,
   "id": "697a8c85",
   "metadata": {},
   "outputs": [],
   "source": [
    "def get_links(url):\n",
    "    website = Website(url)\n",
    "    model = genai.GenerativeModel(\"gemini-1.5-flash\")\n",
    "    response = model.generate_content(get_prompt(website))\n",
    "    result = json.loads(response.text)\n",
    "    return result"
   ]
  },
  {
   "cell_type": "code",
   "execution_count": null,
   "id": "facb1a52",
   "metadata": {},
   "outputs": [],
   "source": [
    "get_links(\"https://anthropic.com\")"
   ]
  },
  {
   "cell_type": "markdown",
   "id": "38fb8c65",
   "metadata": {},
   "source": [
    "## Step 2: Generate Brochure"
   ]
  },
  {
   "cell_type": "code",
   "execution_count": null,
   "id": "6dfbcbc9",
   "metadata": {},
   "outputs": [],
   "source": [
    "def get_details(url):\n",
    "    result = \"Landing Page:\\n\"\n",
    "    website = Website(url)\n",
    "    result += website.get_contents()\n",
    "    links = get_links(url)\n",
    "    for link in links['links']:\n",
    "        result += f\"\\n\\n{link['type']}:\\n\"\n",
    "        result += Website(link['url']).get_contents()\n",
    "    return result"
   ]
  },
  {
   "cell_type": "code",
   "execution_count": null,
   "id": "a6de058e",
   "metadata": {},
   "outputs": [],
   "source": [
    "print(get_details(\"https://anthropic.com\"))"
   ]
  },
  {
   "cell_type": "code",
   "execution_count": null,
   "id": "9cebc583",
   "metadata": {},
   "outputs": [],
   "source": [
    "system_prompt = \"You are an assistant that analyzes the contents of several relevant pages from a company website \\\n",
    "and creates a short brochure about the company for prospective customers, investors and recruits. Respond in markdown.\\\n",
    "Include details of company culture, customers and careers/jobs if you have the information.\""
   ]
  },
  {
   "cell_type": "code",
   "execution_count": 67,
   "id": "c7f9cfd1",
   "metadata": {},
   "outputs": [],
   "source": [
    "def get_brochure_prompt(company_name, url):\n",
    "    user_prompt = f\"You are looking at a company called: {company_name}\\n\"\n",
    "    user_prompt += f\"Here are the contents of its landing page and other relevant pages; use this information to build a short brochure of the company in markdown.\\n\"\n",
    "    user_prompt += get_details(url)\n",
    "    user_prompt = user_prompt[:5_000] # Truncate if more than 5,000 characters\n",
    "    return f\"context: {system_prompt}, prompt: {user_prompt}\""
   ]
  },
  {
   "cell_type": "code",
   "execution_count": 68,
   "id": "fe4a5a19",
   "metadata": {},
   "outputs": [
    {
     "data": {
      "text/plain": [
       "'context: You are an assistant that analyzes the contents of several relevant pages from a company website and creates a short brochure about the company for prospective customers, investors and recruits. Respond in markdown.Include details of company culture, customers and careers/jobs if you have the information., prompt: You are looking at a company called: Anthropic\\nHere are the contents of its landing page and other relevant pages; use this information to build a short brochure of the company in markdown.\\nLanding Page:\\nWebpage Title:\\nHome \\\\ Anthropic\\nWebpage Content:\\nClaude\\nOverview\\nTeam\\nEnterprise\\nAPI\\nPricing\\nResearch\\nCompany\\nCareers\\nNews\\nTry Claude\\nAI\\nresearch\\nand\\nproducts\\nthat put safety at the frontier\\nClaude.ai\\nMeet Claude 3.5 Sonnet\\nClaude 3.5 Sonnet, our most intelligent AI model, is now available.\\nTalk to Claude\\nAPI\\nBuild with Claude\\nCreate AI-powered applications and custom experiences using Claude.\\nLearn more\\nAnnouncements\\nIntroducing computer use, a new Claude 3.5 Sonnet, and Claude 3.5 Haiku\\nOct 22, 2024\\nModel updates\\n3.5 Sonnet\\n3.5 Haiku\\nOur Work\\nProduct\\nClaude for Enterprise\\nSep 4, 2024\\nAlignment\\n·\\nResearch\\nConstitutional AI: Harmlessness from AI Feedback\\nDec 15, 2022\\nAnnouncements\\nCore Views on AI Safety: When, Why, What, and How\\nMar 8, 2023\\nWork with Anthropic\\nAnthropic is an AI safety and research company based in San Francisco. Our interdisciplinary team has experience across ML, physics, policy, and product. Together, we generate research and create reliable, beneficial AI systems.\\nSee open roles\\nClaude\\nAPI\\nTeam\\nPricing\\nResearch\\nCompany\\nCustomers\\nNews\\nCareers\\nPress Inquiries\\nSupport\\nStatus\\nAvailability\\nTwitter\\nLinkedIn\\nYouTube\\nTerms of Service – Consumer\\nTerms of Service – Commercial\\nPrivacy Policy\\nUsage Policy\\nResponsible Disclosure Policy\\nCompliance\\nPrivacy Choices\\n© 2025 Anthropic PBC\\n\\n\\n\\nabout page:\\nWebpage Title:\\nCompany \\\\ Anthropic\\nWebpage Content:\\nClaude\\nOverview\\nTeam\\nEnterprise\\nAPI\\nPricing\\nResearch\\nCompany\\nCareers\\nNews\\nTry Claude\\nMaking AI systems\\nyou can rely on\\nAnthropic is an AI safety and research company. We build reliable, interpretable, and steerable AI systems.\\nJoin us\\nOur Purpose\\nWe believe AI will have a vast impact on the world. Anthropic is dedicated to building systems that people can rely on and generating research about the opportunities and risks of AI.\\nWe Build Safer Systems\\nWe aim to build frontier AI systems that are reliable, interpretable, and steerable. We conduct frontier research, develop and apply a variety of safety techniques, and deploy the resulting systems via a set of partnerships and products.\\nSafety Is a Science\\nWe treat AI safety as a systematic science, conducting research, applying it to our products, feeding those insights back into our research, and regularly sharing what we learn with the world along the way.\\nInterdisciplinary\\nAnthropic is a collaborative team of researchers, engineers, policy experts, business leaders and operators, who bring our experience from many different domains to our work.\\nAI Companies are One Piece of a Big Puzzle\\nAI has the potential to fundamentally change how the world works. We view ourselves as just one piece of this evolving puzzle. We collaborate with civil society, government, academia, nonprofits and industry to promote safety industry-wide.\\nThe Team\\nWe’re a team of researchers, engineers, policy experts and operational leaders, with experience spanning a variety of disciplines, all working together to build reliable and understandable AI systems.\\nResearch\\nWe conduct frontier AI research across a variety of modalities, and explore novel and emerging safety research areas from interpretability to RL from human feedback to policy and societal impacts analysis.\\nPolicy\\nWe think about the impacts of our work and strive to communicate what we’re seeing at the frontier to policymakers and civil society in the US and abroad to help promote safe and reliable AI.\\nProduct\\nWe translate our research into tangible, practical tools like Claude that benefit businesses, nonprofits and civil society groups and their clients and people around the globe.\\nOperations\\nOur people, finance, legal, and recruiting teams are the human engines that make Anthropic go. We’ve had previous careers at NASA, startups, and the armed forces and our diverse experiences help make Anthropic a great place to work (and we love plants!).\\nOur Values\\n01\\nHere for the mission\\nAnthropic exists for our mission: to ensure transformative AI helps people and society flourish. Progress this decade may be rapid, and we expect increasingly capable systems to pose novel challenges. We pursue our mission by building frontier systems, studying their behaviors, working to responsibly deploy them, and regularly sharing our safety insights. We collaborate with other projects and stakeholders seeking a similar outcome.\\n02\\nUnusually high trust\\nOur company is an unusually high trust environment: we assume good faith, disagree kindly, and prioritize honesty. We expect emotional maturity and intellectual openness. At its best, our trust enables us to make better decisions as an organization than any one of us could as individuals.\\n03\\nOne big team\\nCollaboration is central to our work, culture, and value proposition. While we have many teams at Anthropic, we feel the broader sense in which'"
      ]
     },
     "execution_count": 68,
     "metadata": {},
     "output_type": "execute_result"
    }
   ],
   "source": [
    "get_brochure_prompt(\"Anthropic\", \"https://anthropic.com\")"
   ]
  },
  {
   "cell_type": "code",
   "execution_count": 71,
   "id": "d4201433",
   "metadata": {},
   "outputs": [],
   "source": [
    "# get brochure from the prompt data\n",
    "\n",
    "def generate_brochure(company_name, url):\n",
    "    model = genai.GenerativeModel(\"gemini-1.5-flash\")\n",
    "    response = model.generate_content(get_brochure_prompt(company_name, url))\n",
    "    display(Markdown(response.text))"
   ]
  },
  {
   "cell_type": "code",
   "execution_count": null,
   "id": "76c5d803",
   "metadata": {},
   "outputs": [],
   "source": [
    "generate_brochure(\"Anthropic\", \"https://anthropic.com\")"
   ]
  },
  {
   "cell_type": "code",
   "execution_count": 74,
   "id": "2bd6be8f",
   "metadata": {},
   "outputs": [],
   "source": [
    "# generate stream of content\n",
    "\n",
    "def generate_brochure_stream(company_name, url):\n",
    "    model = genai.GenerativeModel(\"gemini-1.5-flash\")\n",
    "    response = model.generate_content(get_brochure_prompt(company_name, url), stream = True)\n",
    "    result = \"\"\n",
    "    display_handler = display(Markdown(\"\"), display_id=True)\n",
    "    for chunk in response:\n",
    "        chunk.text.replace(\"'''\", \"\").replace(\"markdown\", \"\")\n",
    "        result += chunk.text\n",
    "        update_display(Markdown(result), display_id=display_handler.display_id)\n"
   ]
  },
  {
   "cell_type": "code",
   "execution_count": 75,
   "id": "9fce01c0",
   "metadata": {},
   "outputs": [
    {
     "data": {
      "text/markdown": [
       "# Anthropic:  Building a Safer Future with AI\n",
       "\n",
       "**A brochure for prospective customers, investors, and recruits**\n",
       "\n",
       "\n",
       "**(Front Page - Image: A stylized image representing AI safety or collaboration)**\n",
       "\n",
       "**Anthropic: AI Research & Products that Prioritize Safety**\n",
       "\n",
       "We are an AI safety and research company based in San Francisco.  Our mission is to ensure transformative AI helps people and society flourish. We build reliable, interpretable, and steerable AI systems, conducting cutting-edge research and deploying our findings through innovative products and partnerships.\n",
       "\n",
       "\n",
       "**(Inside Left Panel - Customer Focus)**\n",
       "\n",
       "**Claude:  The Intelligent AI System You Can Rely On**\n",
       "\n",
       "Anthropic's flagship product, Claude, is a powerful and safe AI system available through our API.  Businesses, nonprofits, and individuals can leverage Claude to create AI-powered applications and custom experiences.  Claude is designed for:\n",
       "\n",
       "* **Reliable performance:**  Built with safety as a core principle.\n",
       "* **Interpretability:** Understanding how Claude works, increasing trust and accountability.\n",
       "* **Steerability:**  Guiding Claude's behavior to ensure desired outcomes.\n",
       "\n",
       "**Learn more & Try Claude:** [Link to Claude page]\n",
       "\n",
       "\n",
       "**(Inside Right Panel - Company Culture & Careers)**\n",
       "\n",
       "**A Culture of Collaboration & Innovation**\n",
       "\n",
       "Anthropic fosters a collaborative and high-trust environment. Our interdisciplinary team comprises researchers, engineers, policy experts, business leaders, and operators from diverse backgrounds.  We value:\n",
       "\n",
       "* **Mission-driven work:**  Passionate about building a safer future with AI.\n",
       "* **High trust & open communication:** We assume good faith, disagree kindly, and prioritize honesty.\n",
       "* **Collaboration:**  We work together as one big team, leveraging our diverse expertise.\n",
       "\n",
       "**Careers at Anthropic:**\n",
       "\n",
       "We are looking for talented individuals across a range of disciplines, including:\n",
       "\n",
       "* Machine Learning Engineers\n",
       "* Researchers (AI Safety, ML, etc.)\n",
       "* Policy Experts\n",
       "* Product Managers\n",
       "* Operations Professionals\n",
       "\n",
       "See open roles and apply: [Link to Careers page]\n",
       "\n",
       "\n",
       "**(Back Panel - Investment Highlights & Research)**\n",
       "\n",
       "**Investing in a Safer AI Future**\n",
       "\n",
       "Anthropic is at the forefront of AI safety research. Our work focuses on:\n",
       "\n",
       "* **Constitutional AI:** Developing AI systems guided by principles of harmlessness.\n",
       "* **Interpretability:**  Making AI systems more understandable and transparent.\n",
       "* **Reinforcement Learning from Human Feedback (RLHF):** Training AI systems to align with human values.\n",
       "\n",
       "Our research is regularly shared with the world, fostering open collaboration and driving advancements in the field.\n",
       "\n",
       "**Contact:**\n",
       "\n",
       "[Website Link] | [Twitter Link] | [LinkedIn Link] | [Email Address]\n",
       "\n",
       "\n",
       "**(Small Print)**  © 2025 Anthropic PBC\n",
       "\n",
       "\n"
      ],
      "text/plain": [
       "<IPython.core.display.Markdown object>"
      ]
     },
     "metadata": {},
     "output_type": "display_data"
    }
   ],
   "source": [
    "generate_brochure_stream(\"Anthropic\", \"https://anthropic.com\")"
   ]
  },
  {
   "cell_type": "code",
   "execution_count": null,
   "id": "6ed432cc",
   "metadata": {},
   "outputs": [],
   "source": []
  }
 ],
 "metadata": {
  "kernelspec": {
   "display_name": "llm_projects",
   "language": "python",
   "name": "python3"
  },
  "language_info": {
   "codemirror_mode": {
    "name": "ipython",
    "version": 3
   },
   "file_extension": ".py",
   "mimetype": "text/x-python",
   "name": "python",
   "nbconvert_exporter": "python",
   "pygments_lexer": "ipython3",
   "version": "3.11.11"
  }
 },
 "nbformat": 4,
 "nbformat_minor": 5
}
