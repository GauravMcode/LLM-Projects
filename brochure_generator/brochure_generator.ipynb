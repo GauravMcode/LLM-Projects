{
 "cells": [
  {
   "cell_type": "markdown",
   "id": "0fef5fa5",
   "metadata": {},
   "source": [
    "# Brochure Generator from Website"
   ]
  },
  {
   "cell_type": "code",
   "execution_count": null,
   "id": "c142ec78",
   "metadata": {},
   "outputs": [],
   "source": [
    "#all imports\n",
    "import os\n",
    "import requests\n",
    "import json\n",
    "from typing import List\n",
    "from dotenv import load_dotenv\n",
    "from bs4 import BeautifulSoup\n",
    "from IPython.display import Markdown, display, update_display\n",
    "import google.generativeai as genai"
   ]
  },
  {
   "cell_type": "markdown",
   "id": "b76197f0",
   "metadata": {},
   "source": [
    "## Step 1: Get data and links"
   ]
  },
  {
   "cell_type": "code",
   "execution_count": null,
   "id": "2b25b8cd",
   "metadata": {},
   "outputs": [],
   "source": [
    "load_dotenv(override=True)\n",
    "api_key = os.getenv('GEMINI_API_KEY')\n",
    "\n",
    "# connect to gemini\n",
    "genai.configure(api_key = api_key)"
   ]
  },
  {
   "cell_type": "code",
   "execution_count": null,
   "id": "d0e5aa3e",
   "metadata": {},
   "outputs": [],
   "source": [
    "\n",
    "# Some websites need you to use proper headers when fetching them:\n",
    "headers = {\n",
    "    \"User-Agent\": \"Mozilla/5.0 (Windows NT 10.0; Win64; x64) AppleWebKit/537.36 (KHTML, like Gecko) Chrome/117.0.0.0 Safari/537.36\"\n",
    "}\n",
    "\n",
    "class Website:\n",
    "    \"\"\"\n",
    "    A utility class to represent a Website that we have scraped, now with links.\n",
    "    \"\"\"\n",
    "    url: str\n",
    "    title: str\n",
    "    body: str\n",
    "    text: str\n",
    "    links: List[str]\n",
    "\n",
    "    def __init__(self, url: str):\n",
    "        self.url = url\n",
    "        self.title = \"\"\n",
    "        self.body = \"\"\n",
    "        self.text = \"\"\n",
    "        self.links = []\n",
    "        self.scrape()\n",
    "\n",
    "    def scrape(self):\n",
    "        \"\"\"Scrapes the content of the website at the provided URL.\"\"\"\n",
    "        try:\n",
    "            response = requests.get(self.url, headers=headers)\n",
    "            if response.status_code != 200:\n",
    "                print(f\"Failed to retrieve the URL. Status code: {response.status_code}\")\n",
    "                return\n",
    "            \n",
    "            soup = BeautifulSoup(response.content, 'html.parser')\n",
    "            self.body = response.content\n",
    "            self.title = soup.title.string if soup.title else \"No title found!\"\n",
    "\n",
    "            # Remove irrelevant tags as we only need text\n",
    "            for irrelevant in soup.body.find_all([\"script\", \"style\", \"img\", \"input\"]):\n",
    "                irrelevant.decompose()\n",
    "            \n",
    "            self.text = soup.body.get_text(separator='\\n', strip=True) if soup.body else \"\"\n",
    "\n",
    "            # Extract links\n",
    "            links = [link.get('href') for link in soup.find_all('a')]\n",
    "            self.links = [link for link in links if link]\n",
    "\n",
    "        except Exception as e:\n",
    "            print(f\"An error occurred while scraping: {e}\")\n",
    "    \n",
    "    def get_contents(self):\n",
    "        return f\"Webpage Title:\\n{self.title}\\nWebpage Content:\\n{self.text}\\n\\n\"\n"
   ]
  },
  {
   "cell_type": "code",
   "execution_count": null,
   "id": "77301335",
   "metadata": {},
   "outputs": [],
   "source": [
    "web = Website(\"https://edwarddonner.com\")\n",
    "web.links"
   ]
  },
  {
   "cell_type": "code",
   "execution_count": null,
   "id": "001f2e46",
   "metadata": {},
   "outputs": [],
   "source": [
    "link_system_prompt = \"You are provided with a list of links found on a webpage. \\\n",
    "You are able to decide which of the links would be most relevant to include in a brochure about the company, \\\n",
    "such as links to an About page, or a Company page, or Careers/Jobs pages.\\n\"\n",
    "link_system_prompt += \"You should respond in JSON as in this example:\"\n",
    "link_system_prompt += \"\"\"\n",
    "{\n",
    "    \"links\": [\n",
    "        {\"type\": \"about page\", \"url\": \"https://full.url/goes/here/about\"},\n",
    "        {\"type\": \"careers page\": \"url\": \"https://another.full.url/careers\"}\n",
    "    ]\n",
    "}\n",
    "\"\"\""
   ]
  },
  {
   "cell_type": "code",
   "execution_count": null,
   "id": "bacba4a8",
   "metadata": {},
   "outputs": [],
   "source": [
    "print(link_system_prompt)"
   ]
  },
  {
   "cell_type": "code",
   "execution_count": null,
   "id": "bfa9946a",
   "metadata": {},
   "outputs": [],
   "source": [
    "def get_links_user_prompt(website):\n",
    "    user_prompt = f\"Here is the list of links on the website of {website.url} - \"\n",
    "    user_prompt += \"please decide which of these are relevant web links for a brochure about the company, respond with the full https URL in JSON format. \\\n",
    "Do not include Terms of Service, Privacy, email links. Don't include json term in output\\n\"\n",
    "    user_prompt += \"Links (some might be relative links):\\n\"\n",
    "    user_prompt += \"\\n\".join(website.links)\n",
    "    return user_prompt"
   ]
  },
  {
   "cell_type": "code",
   "execution_count": null,
   "id": "f2314891",
   "metadata": {},
   "outputs": [],
   "source": [
    "def get_prompt(website):\n",
    "    return f\"context: {link_system_prompt}, prompt: {get_links_user_prompt(website)}\""
   ]
  },
  {
   "cell_type": "code",
   "execution_count": null,
   "id": "697a8c85",
   "metadata": {},
   "outputs": [],
   "source": [
    "def get_links(url):\n",
    "    website = Website(url)\n",
    "    model = genai.GenerativeModel(\"gemini-1.5-flash\")\n",
    "    response = model.generate_content(get_prompt(website))\n",
    "    result = json.loads(response.text)\n",
    "    return result"
   ]
  },
  {
   "cell_type": "code",
   "execution_count": null,
   "id": "facb1a52",
   "metadata": {},
   "outputs": [],
   "source": [
    "get_links(\"https://anthropic.com\")"
   ]
  },
  {
   "cell_type": "markdown",
   "id": "38fb8c65",
   "metadata": {},
   "source": [
    "## Step 2: Generate Brochure"
   ]
  },
  {
   "cell_type": "code",
   "execution_count": null,
   "id": "6dfbcbc9",
   "metadata": {},
   "outputs": [],
   "source": [
    "def get_details(url):\n",
    "    result = \"Landing Page:\\n\"\n",
    "    website = Website(url)\n",
    "    result += website.get_contents()\n",
    "    links = get_links(url)\n",
    "    for link in links['links']:\n",
    "        result += f\"\\n\\n{link['type']}:\\n\"\n",
    "        result += Website(link['url']).get_contents()\n",
    "    return result"
   ]
  },
  {
   "cell_type": "code",
   "execution_count": null,
   "id": "a6de058e",
   "metadata": {},
   "outputs": [],
   "source": [
    "print(get_details(\"https://anthropic.com\"))"
   ]
  },
  {
   "cell_type": "code",
   "execution_count": null,
   "id": "9cebc583",
   "metadata": {},
   "outputs": [],
   "source": [
    "system_prompt = \"You are an assistant that analyzes the contents of several relevant pages from a company website \\\n",
    "and creates a short brochure about the company for prospective customers, investors and recruits. Respond in markdown.\\\n",
    "Include details of company culture, customers and careers/jobs if you have the information.\""
   ]
  },
  {
   "cell_type": "code",
   "execution_count": null,
   "id": "c7f9cfd1",
   "metadata": {},
   "outputs": [],
   "source": [
    "def get_brochure_user_prompt(company_name, url):\n",
    "    user_prompt = f\"You are looking at a company called: {company_name}\\n\"\n",
    "    user_prompt += f\"Here are the contents of its landing page and other relevant pages; use this information to build a short brochure of the company in markdown.\\n\"\n",
    "    user_prompt += get_details(url)\n",
    "    user_prompt = user_prompt[:5_000] # Truncate if more than 5,000 characters\n",
    "    return user_prompt"
   ]
  },
  {
   "cell_type": "code",
   "execution_count": null,
   "id": "fe4a5a19",
   "metadata": {},
   "outputs": [],
   "source": [
    "get_brochure_user_prompt(\"Anthropic\", \"https://anthropic.com\")"
   ]
  },
  {
   "cell_type": "code",
   "execution_count": null,
   "id": "d4201433",
   "metadata": {},
   "outputs": [],
   "source": [
    "# get brochure from the prompt data\n",
    "\n",
    "def generate_brochure(company_name, url):\n",
    "    model = genai.GenerativeModel(\"gemini-1.5-flash\", \n",
    "    system_instruction=system_prompt\n",
    "    )\n",
    "    response = model.generate_content(\n",
    "        get_brochure_user_prompt(company_name, url), \n",
    "    )\n",
    "    display(Markdown(response.text))"
   ]
  },
  {
   "cell_type": "code",
   "execution_count": null,
   "id": "76c5d803",
   "metadata": {},
   "outputs": [],
   "source": [
    "generate_brochure(\"Anthropic\", \"https://anthropic.com\")"
   ]
  },
  {
   "cell_type": "code",
   "execution_count": null,
   "id": "2bd6be8f",
   "metadata": {},
   "outputs": [],
   "source": [
    "# generate stream of content\n",
    "\n",
    "def generate_brochure_stream(company_name, url):\n",
    "    model = genai.GenerativeModel(\"gemini-1.5-flash\",\n",
    "    system_instruction=system_prompt\n",
    "    )\n",
    "    response = model.generate_content(\n",
    "        get_brochure_user_prompt(company_name, url), \n",
    "        stream = True, \n",
    "    )\n",
    "    result = \"\"\n",
    "    display_handler = display(Markdown(\"\"), display_id=True)\n",
    "    for chunk in response:\n",
    "        chunk.text.replace(\"'''\", \"\").replace(\"markdown\", \"\")\n",
    "        result += chunk.text\n",
    "        update_display(Markdown(result), display_id=display_handler.display_id)\n"
   ]
  },
  {
   "cell_type": "code",
   "execution_count": null,
   "id": "9fce01c0",
   "metadata": {},
   "outputs": [],
   "source": [
    "generate_brochure_stream(\"Anthropic\", \"https://anthropic.com\")"
   ]
  },
  {
   "cell_type": "code",
   "execution_count": null,
   "id": "6ed432cc",
   "metadata": {},
   "outputs": [],
   "source": []
  }
 ],
 "metadata": {
  "kernelspec": {
   "display_name": "Python 3 (ipykernel)",
   "language": "python",
   "name": "python3"
  },
  "language_info": {
   "codemirror_mode": {
    "name": "ipython",
    "version": 3
   },
   "file_extension": ".py",
   "mimetype": "text/x-python",
   "name": "python",
   "nbconvert_exporter": "python",
   "pygments_lexer": "ipython3",
   "version": "3.11.11"
  }
 },
 "nbformat": 4,
 "nbformat_minor": 5
}
