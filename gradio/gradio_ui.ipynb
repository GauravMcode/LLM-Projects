{
 "cells": [
  {
   "cell_type": "markdown",
   "id": "b8e22fcd",
   "metadata": {},
   "source": [
    "# Gradio UI "
   ]
  },
  {
   "cell_type": "code",
   "execution_count": 19,
   "id": "3a67f997-347d-418e-9681-2623fe303bac",
   "metadata": {},
   "outputs": [],
   "source": [
    "# imports\n",
    "\n",
    "import os\n",
    "import requests\n",
    "from bs4 import BeautifulSoup\n",
    "from typing import List\n",
    "from dotenv import load_dotenv\n",
    "import google.generativeai as genai\n",
    "import ollama"
   ]
  },
  {
   "cell_type": "markdown",
   "id": "2014e6fb",
   "metadata": {},
   "source": [
    "### Basic function for API call to llm"
   ]
  },
  {
   "cell_type": "code",
   "execution_count": 20,
   "id": "e1b718e3",
   "metadata": {},
   "outputs": [],
   "source": [
    "load_dotenv(override=True)\n",
    "api_key = os.getenv('GEMINI_API_KEY')\n",
    "\n",
    "# connect to gemini\n",
    "genai.configure(api_key = api_key)"
   ]
  },
  {
   "cell_type": "code",
   "execution_count": 21,
   "id": "25b575be",
   "metadata": {},
   "outputs": [],
   "source": [
    "system_prompt = \"You are a helpful assistant\"\n",
    "gemini_model = \"gemini-1.5-flash\"\n",
    "ollama_model = \"llama3.2\"\n",
    "\n",
    "model = genai.GenerativeModel(gemini_model, system_instruction=system_prompt)"
   ]
  },
  {
   "cell_type": "code",
   "execution_count": 7,
   "id": "977b4557",
   "metadata": {},
   "outputs": [],
   "source": [
    "def call_gemini(prompt):\n",
    "    response = model.generate_content(prompt)\n",
    "    return response.text"
   ]
  },
  {
   "cell_type": "code",
   "execution_count": 8,
   "id": "449d0473",
   "metadata": {},
   "outputs": [
    {
     "data": {
      "text/plain": [
       "'Today is October 26, 2023.\\n'"
      ]
     },
     "execution_count": 8,
     "metadata": {},
     "output_type": "execute_result"
    }
   ],
   "source": [
    "call_gemini(\"What's date today?\")"
   ]
  },
  {
   "cell_type": "markdown",
   "id": "a4b0e0e5",
   "metadata": {},
   "source": [
    "### Gradio UI starter"
   ]
  },
  {
   "cell_type": "code",
   "execution_count": 9,
   "id": "7f3e3802",
   "metadata": {},
   "outputs": [],
   "source": [
    "import gradio as gr "
   ]
  },
  {
   "cell_type": "code",
   "execution_count": null,
   "id": "f49c40e4",
   "metadata": {},
   "outputs": [],
   "source": [
    "gr.Interface(fn=call_gemini, inputs=\"textbox\", outputs=\"textbox\").launch()"
   ]
  },
  {
   "cell_type": "code",
   "execution_count": null,
   "id": "6c914e72",
   "metadata": {},
   "outputs": [],
   "source": [
    "#to get publicly available link to this use share=True in launch method\n",
    "gr.Interface(fn=call_gemini, inputs=\"textbox\", outputs=\"textbox\").launch(share=True)"
   ]
  },
  {
   "cell_type": "code",
   "execution_count": null,
   "id": "4079a10b",
   "metadata": {},
   "outputs": [],
   "source": [
    "# gradio is flexible w.r.t type of inputs and outputs\n",
    "\n",
    "system_message = \"You are a helpful assistant that responds in markdown\"\n",
    "\n",
    "view = gr.Interface(\n",
    "    fn=call_gemini,\n",
    "    inputs=[gr.Textbox(label=\"Your message:\", lines=6)],\n",
    "    outputs=[gr.Markdown(label=\"Response:\")],\n",
    "    flagging_mode=\"never\"\n",
    ")\n",
    "view.launch()"
   ]
  },
  {
   "cell_type": "code",
   "execution_count": 22,
   "id": "78cb6eed",
   "metadata": {},
   "outputs": [],
   "source": [
    "def stream_gemini(prompt):\n",
    "    response = model.generate_content(prompt, stream=True)\n",
    "    result = \"\"\n",
    "    for chunk in response:\n",
    "        result += chunk.text\n",
    "        yield result\n",
    "\n",
    "def stream_ollama(prompt):\n",
    "    messages=[\n",
    "        {'role':'system', 'content':system_prompt},\n",
    "        {'role':'user', 'content':prompt}\n",
    "    ]\n",
    "    response = ollama.chat(model=ollama_model,messages=messages ,stream=True)\n",
    "    result = \"\"\n",
    "    for chunk in response:\n",
    "        result += chunk[\"message\"]['content']\n",
    "        yield result\n",
    "\n",
    "    "
   ]
  },
  {
   "cell_type": "code",
   "execution_count": null,
   "id": "329516c1",
   "metadata": {},
   "outputs": [],
   "source": [
    "# gradio automatically infers that the function is a generator here\n",
    "\n",
    "system_message = \"You are a helpful assistant that responds in markdown\"\n",
    "\n",
    "view = gr.Interface(\n",
    "    fn=stream_gemini,\n",
    "    inputs=[gr.Textbox(label=\"Your message:\", lines=6)],\n",
    "    outputs=[gr.Markdown(label=\"Response:\")],\n",
    "    flagging_mode=\"never\"\n",
    ")\n",
    "view.launch()"
   ]
  },
  {
   "cell_type": "code",
   "execution_count": 26,
   "id": "38fe77e8",
   "metadata": {},
   "outputs": [],
   "source": [
    "def stream_model(model, prompt):\n",
    "    if model.upper()==\"GEMINI\":\n",
    "       result = stream_gemini(prompt)\n",
    "    elif model.upper()==\"LAMA\":\n",
    "       result = stream_ollama(prompt)\n",
    "    else:\n",
    "        raise ValueError(\"unknown model!\")\n",
    "    yield from result"
   ]
  },
  {
   "cell_type": "code",
   "execution_count": 28,
   "id": "2d276317",
   "metadata": {},
   "outputs": [
    {
     "name": "stdout",
     "output_type": "stream",
     "text": [
      "* Running on local URL:  http://127.0.0.1:7866\n",
      "* Running on public URL: https://0d79d8a85e74f1b6f7.gradio.live\n",
      "\n",
      "This share link expires in 72 hours. For free permanent hosting and GPU upgrades, run `gradio deploy` from the terminal in the working directory to deploy to Hugging Face Spaces (https://huggingface.co/spaces)\n"
     ]
    },
    {
     "data": {
      "text/html": [
       "<div><iframe src=\"https://0d79d8a85e74f1b6f7.gradio.live\" width=\"100%\" height=\"500\" allow=\"autoplay; camera; microphone; clipboard-read; clipboard-write;\" frameborder=\"0\" allowfullscreen></iframe></div>"
      ],
      "text/plain": [
       "<IPython.core.display.HTML object>"
      ]
     },
     "metadata": {},
     "output_type": "display_data"
    },
    {
     "data": {
      "text/plain": []
     },
     "execution_count": 28,
     "metadata": {},
     "output_type": "execute_result"
    }
   ],
   "source": [
    "view = gr.Interface(\n",
    "    fn=stream_model,\n",
    "    inputs=[gr.Dropdown([\"Gemini\", \"Lama\"], label=\"Select model\", value=\"Gemini\"), gr.Textbox(label=\"Your message:\")],\n",
    "    outputs=[gr.Markdown(label=\"Response:\")],\n",
    "    flagging_mode=\"never\"\n",
    ")\n",
    "# view.launch()\n",
    "view.launch(share=True)"
   ]
  },
  {
   "cell_type": "code",
   "execution_count": null,
   "id": "cb85f893",
   "metadata": {},
   "outputs": [],
   "source": []
  }
 ],
 "metadata": {
  "kernelspec": {
   "display_name": "Python 3 (ipykernel)",
   "language": "python",
   "name": "python3"
  },
  "language_info": {
   "codemirror_mode": {
    "name": "ipython",
    "version": 3
   },
   "file_extension": ".py",
   "mimetype": "text/x-python",
   "name": "python",
   "nbconvert_exporter": "python",
   "pygments_lexer": "ipython3",
   "version": "3.11.11"
  }
 },
 "nbformat": 4,
 "nbformat_minor": 5
}
