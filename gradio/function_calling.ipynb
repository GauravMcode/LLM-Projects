{
 "cells": [
  {
   "cell_type": "markdown",
   "id": "076f2380-8876-496e-9b66-3082b70c705b",
   "metadata": {},
   "source": [
    "#Tools : (function calling in LLMs)\n",
    "\n",
    "[gemini fn calling docs](https://cloud.google.com/vertex-ai/generative-ai/docs/multimodal/function-calling)"
   ]
  },
  {
   "cell_type": "code",
   "execution_count": null,
   "id": "0928172f-ecca-425a-a59e-68be933229e0",
   "metadata": {},
   "outputs": [],
   "source": []
  }
 ],
 "metadata": {
  "kernelspec": {
   "display_name": "Python 3 (ipykernel)",
   "language": "python",
   "name": "python3"
  },
  "language_info": {
   "codemirror_mode": {
    "name": "ipython",
    "version": 3
   },
   "file_extension": ".py",
   "mimetype": "text/x-python",
   "name": "python",
   "nbconvert_exporter": "python",
   "pygments_lexer": "ipython3",
   "version": "3.11.11"
  }
 },
 "nbformat": 4,
 "nbformat_minor": 5
}
